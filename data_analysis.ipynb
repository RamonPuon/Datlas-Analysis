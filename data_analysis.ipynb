{
 "cells": [
  {
   "cell_type": "code",
   "execution_count": 19,
   "metadata": {},
   "outputs": [],
   "source": [
    "import numpy as np\n",
    "import pandas as pd\n",
    "import matplotlib.pyplot as plt\n",
    "import seaborn as sns"
   ]
  },
  {
   "cell_type": "code",
   "execution_count": 4,
   "metadata": {},
   "outputs": [
    {
     "data": {
      "text/html": [
       "<div>\n",
       "<style scoped>\n",
       "    .dataframe tbody tr th:only-of-type {\n",
       "        vertical-align: middle;\n",
       "    }\n",
       "\n",
       "    .dataframe tbody tr th {\n",
       "        vertical-align: top;\n",
       "    }\n",
       "\n",
       "    .dataframe thead th {\n",
       "        text-align: right;\n",
       "    }\n",
       "</style>\n",
       "<table border=\"1\" class=\"dataframe\">\n",
       "  <thead>\n",
       "    <tr style=\"text-align: right;\">\n",
       "      <th></th>\n",
       "      <th>FOLIO_ID</th>\n",
       "      <th>LAT</th>\n",
       "      <th>LONG</th>\n",
       "      <th>CODIGO POSTAL</th>\n",
       "      <th>CALLE</th>\n",
       "      <th>COLONIA</th>\n",
       "      <th>CAUSA SINIESTRO</th>\n",
       "      <th>TIPO VEHICULO</th>\n",
       "      <th>COLOR</th>\n",
       "      <th>MODELO_VEHICULO</th>\n",
       "      <th>NIVEL DAÑO VEHICULO</th>\n",
       "      <th>PUNTO DE IMPACTO</th>\n",
       "      <th>AÑO</th>\n",
       "      <th>MES</th>\n",
       "      <th>DÍA NUMERO</th>\n",
       "      <th>DIA</th>\n",
       "      <th>HORA</th>\n",
       "      <th>ESTADO</th>\n",
       "      <th>CIUDAD_APROXIMADA</th>\n",
       "      <th>DATE</th>\n",
       "    </tr>\n",
       "  </thead>\n",
       "  <tbody>\n",
       "    <tr>\n",
       "      <th>0</th>\n",
       "      <td>D00005</td>\n",
       "      <td>19.266303</td>\n",
       "      <td>-99.331791</td>\n",
       "      <td>\\N</td>\n",
       "      <td>UBERP3</td>\n",
       "      <td>Cuajimalpa</td>\n",
       "      <td>HUELGAS Y ALBOROTOS</td>\n",
       "      <td>Auto</td>\n",
       "      <td>NEGRO</td>\n",
       "      <td>2016</td>\n",
       "      <td>Medio</td>\n",
       "      <td>NaN</td>\n",
       "      <td>2018</td>\n",
       "      <td>1</td>\n",
       "      <td>3</td>\n",
       "      <td>MIERCOLES</td>\n",
       "      <td>16</td>\n",
       "      <td>NUEVO LEÓN</td>\n",
       "      <td>MONTERREY</td>\n",
       "      <td>2018-01-03</td>\n",
       "    </tr>\n",
       "    <tr>\n",
       "      <th>1</th>\n",
       "      <td>D00007</td>\n",
       "      <td>25.660916</td>\n",
       "      <td>-100.282504</td>\n",
       "      <td>64820</td>\n",
       "      <td>Avenida Revolución</td>\n",
       "      <td>Valle del Huajuco</td>\n",
       "      <td>COLISION Y/O VUELCO</td>\n",
       "      <td>Auto</td>\n",
       "      <td>PLATA</td>\n",
       "      <td>2006</td>\n",
       "      <td>NaN</td>\n",
       "      <td>NaN</td>\n",
       "      <td>2018</td>\n",
       "      <td>1</td>\n",
       "      <td>22</td>\n",
       "      <td>LUNES</td>\n",
       "      <td>12</td>\n",
       "      <td>NUEVO LEÓN</td>\n",
       "      <td>MONTERREY</td>\n",
       "      <td>2018-01-22</td>\n",
       "    </tr>\n",
       "    <tr>\n",
       "      <th>2</th>\n",
       "      <td>D00011</td>\n",
       "      <td>25.724544</td>\n",
       "      <td>-100.373691</td>\n",
       "      <td>64619</td>\n",
       "      <td>ABEDUL</td>\n",
       "      <td>VILLA DORADA</td>\n",
       "      <td>COLISION Y/O VUELCO</td>\n",
       "      <td>Auto</td>\n",
       "      <td>ROJO</td>\n",
       "      <td>2015</td>\n",
       "      <td>Bajo</td>\n",
       "      <td>Costado der central</td>\n",
       "      <td>2018</td>\n",
       "      <td>1</td>\n",
       "      <td>1</td>\n",
       "      <td>LUNES</td>\n",
       "      <td>0</td>\n",
       "      <td>NUEVO LEÓN</td>\n",
       "      <td>MONTERREY</td>\n",
       "      <td>2018-01-01</td>\n",
       "    </tr>\n",
       "    <tr>\n",
       "      <th>3</th>\n",
       "      <td>D00012</td>\n",
       "      <td>25.631471</td>\n",
       "      <td>-100.300988</td>\n",
       "      <td>64760</td>\n",
       "      <td>ALFONSO REYES</td>\n",
       "      <td>15 de Septiembre</td>\n",
       "      <td>COLISION Y/O VUELCO</td>\n",
       "      <td>Auto</td>\n",
       "      <td>BLANCO</td>\n",
       "      <td>2000</td>\n",
       "      <td>Sin daño</td>\n",
       "      <td>Costado izq delantero</td>\n",
       "      <td>2018</td>\n",
       "      <td>1</td>\n",
       "      <td>1</td>\n",
       "      <td>LUNES</td>\n",
       "      <td>2</td>\n",
       "      <td>NUEVO LEÓN</td>\n",
       "      <td>MONTERREY</td>\n",
       "      <td>2018-01-01</td>\n",
       "    </tr>\n",
       "    <tr>\n",
       "      <th>4</th>\n",
       "      <td>D00019</td>\n",
       "      <td>25.728476</td>\n",
       "      <td>-100.333627</td>\n",
       "      <td>64250</td>\n",
       "      <td>Pablo Hernández</td>\n",
       "      <td>FERROCARRILERA</td>\n",
       "      <td>COLISION Y/O VUELCO</td>\n",
       "      <td>Auto</td>\n",
       "      <td>BLANCO</td>\n",
       "      <td>2015</td>\n",
       "      <td>Bajo</td>\n",
       "      <td>Costado izq delantero</td>\n",
       "      <td>2018</td>\n",
       "      <td>1</td>\n",
       "      <td>1</td>\n",
       "      <td>LUNES</td>\n",
       "      <td>9</td>\n",
       "      <td>NUEVO LEÓN</td>\n",
       "      <td>MONTERREY</td>\n",
       "      <td>2018-01-01</td>\n",
       "    </tr>\n",
       "  </tbody>\n",
       "</table>\n",
       "</div>"
      ],
      "text/plain": [
       "  FOLIO_ID        LAT        LONG CODIGO POSTAL               CALLE  \\\n",
       "0   D00005  19.266303  -99.331791            \\N              UBERP3   \n",
       "1   D00007  25.660916 -100.282504         64820  Avenida Revolución   \n",
       "2   D00011  25.724544 -100.373691         64619              ABEDUL   \n",
       "3   D00012  25.631471 -100.300988         64760       ALFONSO REYES   \n",
       "4   D00019  25.728476 -100.333627         64250     Pablo Hernández   \n",
       "\n",
       "             COLONIA      CAUSA SINIESTRO TIPO VEHICULO   COLOR  \\\n",
       "0         Cuajimalpa  HUELGAS Y ALBOROTOS          Auto   NEGRO   \n",
       "1  Valle del Huajuco  COLISION Y/O VUELCO          Auto   PLATA   \n",
       "2       VILLA DORADA  COLISION Y/O VUELCO          Auto    ROJO   \n",
       "3   15 de Septiembre  COLISION Y/O VUELCO          Auto  BLANCO   \n",
       "4     FERROCARRILERA  COLISION Y/O VUELCO          Auto  BLANCO   \n",
       "\n",
       "  MODELO_VEHICULO NIVEL DAÑO VEHICULO       PUNTO DE IMPACTO   AÑO  MES  \\\n",
       "0            2016               Medio                    NaN  2018    1   \n",
       "1            2006                 NaN                    NaN  2018    1   \n",
       "2            2015                Bajo    Costado der central  2018    1   \n",
       "3            2000            Sin daño  Costado izq delantero  2018    1   \n",
       "4            2015                Bajo  Costado izq delantero  2018    1   \n",
       "\n",
       "   DÍA NUMERO        DIA  HORA      ESTADO CIUDAD_APROXIMADA       DATE  \n",
       "0           3  MIERCOLES    16  NUEVO LEÓN         MONTERREY 2018-01-03  \n",
       "1          22      LUNES    12  NUEVO LEÓN         MONTERREY 2018-01-22  \n",
       "2           1      LUNES     0  NUEVO LEÓN         MONTERREY 2018-01-01  \n",
       "3           1      LUNES     2  NUEVO LEÓN         MONTERREY 2018-01-01  \n",
       "4           1      LUNES     9  NUEVO LEÓN         MONTERREY 2018-01-01  "
      ]
     },
     "execution_count": 4,
     "metadata": {},
     "output_type": "execute_result"
    }
   ],
   "source": [
    "dataset = pd.read_excel(\"./data/BD_HackMTY_ChoquesYSiniestrosMONTERREY_2020_V2.xlsx\")\n",
    "dataset.head()"
   ]
  },
  {
   "cell_type": "code",
   "execution_count": 5,
   "metadata": {},
   "outputs": [
    {
     "data": {
      "text/plain": [
       "(43430, 20)"
      ]
     },
     "execution_count": 5,
     "metadata": {},
     "output_type": "execute_result"
    }
   ],
   "source": [
    "dataset.shape"
   ]
  },
  {
   "cell_type": "code",
   "execution_count": 6,
   "metadata": {},
   "outputs": [
    {
     "data": {
      "text/html": [
       "<div>\n",
       "<style scoped>\n",
       "    .dataframe tbody tr th:only-of-type {\n",
       "        vertical-align: middle;\n",
       "    }\n",
       "\n",
       "    .dataframe tbody tr th {\n",
       "        vertical-align: top;\n",
       "    }\n",
       "\n",
       "    .dataframe thead th {\n",
       "        text-align: right;\n",
       "    }\n",
       "</style>\n",
       "<table border=\"1\" class=\"dataframe\">\n",
       "  <thead>\n",
       "    <tr style=\"text-align: right;\">\n",
       "      <th></th>\n",
       "      <th>LAT</th>\n",
       "      <th>LONG</th>\n",
       "      <th>AÑO</th>\n",
       "      <th>MES</th>\n",
       "      <th>DÍA NUMERO</th>\n",
       "      <th>HORA</th>\n",
       "    </tr>\n",
       "  </thead>\n",
       "  <tbody>\n",
       "    <tr>\n",
       "      <th>count</th>\n",
       "      <td>42450.000000</td>\n",
       "      <td>42450.000000</td>\n",
       "      <td>43430.000000</td>\n",
       "      <td>43430.000000</td>\n",
       "      <td>43430.000000</td>\n",
       "      <td>43430.000000</td>\n",
       "    </tr>\n",
       "    <tr>\n",
       "      <th>mean</th>\n",
       "      <td>25.681225</td>\n",
       "      <td>-100.321721</td>\n",
       "      <td>2016.686116</td>\n",
       "      <td>5.931476</td>\n",
       "      <td>15.630233</td>\n",
       "      <td>13.791227</td>\n",
       "    </tr>\n",
       "    <tr>\n",
       "      <th>std</th>\n",
       "      <td>0.253416</td>\n",
       "      <td>0.243406</td>\n",
       "      <td>0.733553</td>\n",
       "      <td>3.428503</td>\n",
       "      <td>8.734083</td>\n",
       "      <td>4.598494</td>\n",
       "    </tr>\n",
       "    <tr>\n",
       "      <th>min</th>\n",
       "      <td>-12.038977</td>\n",
       "      <td>-115.070033</td>\n",
       "      <td>2016.000000</td>\n",
       "      <td>1.000000</td>\n",
       "      <td>1.000000</td>\n",
       "      <td>0.000000</td>\n",
       "    </tr>\n",
       "    <tr>\n",
       "      <th>25%</th>\n",
       "      <td>25.665644</td>\n",
       "      <td>-100.354870</td>\n",
       "      <td>2016.000000</td>\n",
       "      <td>3.000000</td>\n",
       "      <td>8.000000</td>\n",
       "      <td>10.000000</td>\n",
       "    </tr>\n",
       "    <tr>\n",
       "      <th>50%</th>\n",
       "      <td>25.684043</td>\n",
       "      <td>-100.322837</td>\n",
       "      <td>2017.000000</td>\n",
       "      <td>5.000000</td>\n",
       "      <td>16.000000</td>\n",
       "      <td>14.000000</td>\n",
       "    </tr>\n",
       "    <tr>\n",
       "      <th>75%</th>\n",
       "      <td>25.710717</td>\n",
       "      <td>-100.291083</td>\n",
       "      <td>2017.000000</td>\n",
       "      <td>9.000000</td>\n",
       "      <td>23.000000</td>\n",
       "      <td>17.000000</td>\n",
       "    </tr>\n",
       "    <tr>\n",
       "      <th>max</th>\n",
       "      <td>33.640945</td>\n",
       "      <td>-66.017857</td>\n",
       "      <td>2018.000000</td>\n",
       "      <td>12.000000</td>\n",
       "      <td>31.000000</td>\n",
       "      <td>23.000000</td>\n",
       "    </tr>\n",
       "  </tbody>\n",
       "</table>\n",
       "</div>"
      ],
      "text/plain": [
       "                LAT          LONG           AÑO           MES    DÍA NUMERO  \\\n",
       "count  42450.000000  42450.000000  43430.000000  43430.000000  43430.000000   \n",
       "mean      25.681225   -100.321721   2016.686116      5.931476     15.630233   \n",
       "std        0.253416      0.243406      0.733553      3.428503      8.734083   \n",
       "min      -12.038977   -115.070033   2016.000000      1.000000      1.000000   \n",
       "25%       25.665644   -100.354870   2016.000000      3.000000      8.000000   \n",
       "50%       25.684043   -100.322837   2017.000000      5.000000     16.000000   \n",
       "75%       25.710717   -100.291083   2017.000000      9.000000     23.000000   \n",
       "max       33.640945    -66.017857   2018.000000     12.000000     31.000000   \n",
       "\n",
       "               HORA  \n",
       "count  43430.000000  \n",
       "mean      13.791227  \n",
       "std        4.598494  \n",
       "min        0.000000  \n",
       "25%       10.000000  \n",
       "50%       14.000000  \n",
       "75%       17.000000  \n",
       "max       23.000000  "
      ]
     },
     "execution_count": 6,
     "metadata": {},
     "output_type": "execute_result"
    }
   ],
   "source": [
    "dataset.describe()"
   ]
  },
  {
   "cell_type": "code",
   "execution_count": 7,
   "metadata": {},
   "outputs": [
    {
     "name": "stdout",
     "output_type": "stream",
     "text": [
      "<class 'pandas.core.frame.DataFrame'>\n",
      "RangeIndex: 43430 entries, 0 to 43429\n",
      "Data columns (total 20 columns):\n",
      " #   Column               Non-Null Count  Dtype         \n",
      "---  ------               --------------  -----         \n",
      " 0   FOLIO_ID             43430 non-null  object        \n",
      " 1   LAT                  42450 non-null  float64       \n",
      " 2   LONG                 42450 non-null  float64       \n",
      " 3   CODIGO POSTAL        43390 non-null  object        \n",
      " 4   CALLE                43429 non-null  object        \n",
      " 5   COLONIA              43411 non-null  object        \n",
      " 6   CAUSA SINIESTRO      43430 non-null  object        \n",
      " 7   TIPO VEHICULO        43394 non-null  object        \n",
      " 8   COLOR                43371 non-null  object        \n",
      " 9   MODELO_VEHICULO      43396 non-null  object        \n",
      " 10  NIVEL DAÑO VEHICULO  43127 non-null  object        \n",
      " 11  PUNTO DE IMPACTO     39625 non-null  object        \n",
      " 12  AÑO                  43430 non-null  int64         \n",
      " 13  MES                  43430 non-null  int64         \n",
      " 14  DÍA NUMERO           43430 non-null  int64         \n",
      " 15  DIA                  43430 non-null  object        \n",
      " 16  HORA                 43430 non-null  int64         \n",
      " 17  ESTADO               43430 non-null  object        \n",
      " 18  CIUDAD_APROXIMADA    43430 non-null  object        \n",
      " 19  DATE                 43430 non-null  datetime64[ns]\n",
      "dtypes: datetime64[ns](1), float64(2), int64(4), object(13)\n",
      "memory usage: 6.6+ MB\n"
     ]
    }
   ],
   "source": [
    "dataset.info()"
   ]
  },
  {
   "cell_type": "code",
   "execution_count": 8,
   "metadata": {},
   "outputs": [
    {
     "data": {
      "text/plain": [
       "Text(0.5, 1.0, 'Missing values')"
      ]
     },
     "execution_count": 8,
     "metadata": {},
     "output_type": "execute_result"
    },
    {
     "data": {
      "image/png": "[encoded data removed]",
      "text/plain": [
       "<Figure size 511.25x360 with 1 Axes>"
      ]
     },
     "metadata": {
      "needs_background": "light"
     },
     "output_type": "display_data"
    }
   ],
   "source": [
    "sns.displot(\n",
    "    data = dataset.isna().melt(value_name=\"Missing\"),\n",
    "    y = \"variable\",\n",
    "    hue=\"Missing\",\n",
    "    multiple = \"fill\",\n",
    "    aspect=1.25\n",
    ")\n",
    "plt.ylabel(\"\")\n",
    "plt.xlabel(\"\")\n",
    "plt.title(\"Missing values\")"
   ]
  },
  {
   "cell_type": "code",
   "execution_count": 9,
   "metadata": {},
   "outputs": [
    {
     "data": {
      "text/plain": [
       "count     43394\n",
       "unique        5\n",
       "top        Auto\n",
       "freq      35309\n",
       "Name: TIPO VEHICULO, dtype: object"
      ]
     },
     "execution_count": 9,
     "metadata": {},
     "output_type": "execute_result"
    }
   ],
   "source": [
    "dataset['TIPO VEHICULO'].describe()"
   ]
  },
  {
   "cell_type": "code",
   "execution_count": 10,
   "metadata": {},
   "outputs": [
    {
     "data": {
      "text/plain": [
       "array(['Auto', 'Camión Ligero', 'Camión', nan, 'Motocicleta', '\\\\N'],\n",
       "      dtype=object)"
      ]
     },
     "execution_count": 10,
     "metadata": {},
     "output_type": "execute_result"
    }
   ],
   "source": [
    "dataset['TIPO VEHICULO'].unique()"
   ]
  },
  {
   "cell_type": "code",
   "execution_count": 11,
   "metadata": {},
   "outputs": [
    {
     "data": {
      "text/plain": [
       "498"
      ]
     },
     "execution_count": 11,
     "metadata": {},
     "output_type": "execute_result"
    }
   ],
   "source": [
    "len(dataset['CODIGO POSTAL'].unique())"
   ]
  },
  {
   "cell_type": "code",
   "execution_count": 12,
   "metadata": {},
   "outputs": [
    {
     "data": {
      "text/plain": [
       "64000     0.124545\n",
       "64620     0.065853\n",
       "64590     0.060419\n",
       "64330     0.055146\n",
       "64619     0.035667\n",
       "64200     0.027262\n",
       "647770    0.026456\n",
       "6400      0.024154\n",
       "64988     0.022542\n",
       "\\N        0.022266\n",
       "Name: CODIGO POSTAL, dtype: float64"
      ]
     },
     "execution_count": 12,
     "metadata": {},
     "output_type": "execute_result"
    }
   ],
   "source": [
    "dataset['CODIGO POSTAL'].value_counts()[:10]/len(dataset)"
   ]
  },
  {
   "cell_type": "code",
   "execution_count": 13,
   "metadata": {},
   "outputs": [
    {
     "data": {
      "text/plain": [
       "Auto             0.813009\n",
       "Camión           0.159751\n",
       "Camión Ligero    0.022128\n",
       "\\N               0.003224\n",
       "Motocicleta      0.001059\n",
       "Name: TIPO VEHICULO, dtype: float64"
      ]
     },
     "execution_count": 13,
     "metadata": {},
     "output_type": "execute_result"
    }
   ],
   "source": [
    "dataset['TIPO VEHICULO'].value_counts()/len(dataset)"
   ]
  },
  {
   "cell_type": "code",
   "execution_count": 20,
   "metadata": {},
   "outputs": [
    {
     "data": {
      "text/plain": [
       "<AxesSubplot:xlabel='TIPO VEHICULO', ylabel='count'>"
      ]
     },
     "execution_count": 20,
     "metadata": {},
     "output_type": "execute_result"
    },
    {
     "data": {
      "image/png": "[encoded data removed]",
      "text/plain": [
       "<Figure size 432x288 with 1 Axes>"
      ]
     },
     "metadata": {
      "needs_background": "light"
     },
     "output_type": "display_data"
    }
   ],
   "source": [
    "sns.countplot(x = 'TIPO VEHICULO', data=dataset)"
   ]
  },
  {
   "cell_type": "code",
   "execution_count": 14,
   "metadata": {},
   "outputs": [
    {
     "data": {
      "text/plain": [
       "BLANCO           0.260718\n",
       "GRIS             0.167235\n",
       "ROJO             0.085563\n",
       "PLATA            0.073498\n",
       "NEGRO            0.063389\n",
       "                   ...   \n",
       "VERDE OPAL       0.000023\n",
       "Gris/2015        0.000023\n",
       "AZUL Y BLANCO    0.000023\n",
       "2015 bco         0.000023\n",
       "vino /dora       0.000023\n",
       "Name: COLOR, Length: 1297, dtype: float64"
      ]
     },
     "execution_count": 14,
     "metadata": {},
     "output_type": "execute_result"
    }
   ],
   "source": [
    "dataset['COLOR'].value_counts()/len(dataset)"
   ]
  },
  {
   "cell_type": "code",
   "execution_count": 15,
   "metadata": {},
   "outputs": [
    {
     "data": {
      "text/plain": [
       "1298"
      ]
     },
     "execution_count": 15,
     "metadata": {},
     "output_type": "execute_result"
    }
   ],
   "source": [
    "len(dataset['COLOR'].unique())"
   ]
  },
  {
   "cell_type": "code",
   "execution_count": 16,
   "metadata": {},
   "outputs": [
    {
     "data": {
      "text/plain": [
       "array(['NEGRO', 'PLATA', 'ROJO', ..., 'CAFE ARENA', 'naranga',\n",
       "       'vino /dora'], dtype=object)"
      ]
     },
     "execution_count": 16,
     "metadata": {},
     "output_type": "execute_result"
    }
   ],
   "source": [
    "dataset['COLOR'].unique()"
   ]
  },
  {
   "cell_type": "code",
   "execution_count": 17,
   "metadata": {},
   "outputs": [
    {
     "data": {
      "text/plain": [
       "count    43430.000000\n",
       "mean      2016.686116\n",
       "std          0.733553\n",
       "min       2016.000000\n",
       "25%       2016.000000\n",
       "50%       2017.000000\n",
       "75%       2017.000000\n",
       "max       2018.000000\n",
       "Name: AÑO, dtype: float64"
      ]
     },
     "execution_count": 17,
     "metadata": {},
     "output_type": "execute_result"
    }
   ],
   "source": [
    "dataset['AÑO'].describe()"
   ]
  },
  {
   "cell_type": "code",
   "execution_count": 18,
   "metadata": {},
   "outputs": [
    {
     "data": {
      "text/plain": [
       "14    0.081142\n",
       "13    0.079553\n",
       "18    0.074649\n",
       "15    0.072346\n",
       "16    0.070366\n",
       "17    0.068570\n",
       "12    0.065600\n",
       "9     0.065462\n",
       "19    0.064449\n",
       "8     0.062653\n",
       "11    0.059613\n",
       "10    0.057265\n",
       "20    0.043749\n",
       "7     0.036703\n",
       "21    0.029772\n",
       "22    0.019180\n",
       "23    0.012319\n",
       "6     0.008727\n",
       "0     0.007691\n",
       "1     0.005710\n",
       "2     0.004099\n",
       "3     0.003776\n",
       "5     0.003707\n",
       "4     0.002901\n",
       "Name: HORA, dtype: float64"
      ]
     },
     "execution_count": 18,
     "metadata": {},
     "output_type": "execute_result"
    }
   ],
   "source": [
    "dataset['HORA'].value_counts()/len(dataset)"
   ]
  },
  {
   "cell_type": "code",
   "execution_count": 22,
   "metadata": {},
   "outputs": [
    {
     "data": {
      "text/plain": [
       "Text(0.5, 1.0, 'Distribución de acuerdo a la hora del día')"
      ]
     },
     "execution_count": 22,
     "metadata": {},
     "output_type": "execute_result"
    },
    {
     "data": {
      "image/png": "[encoded data removed]",
      "text/plain": [
       "<Figure size 432x288 with 1 Axes>"
      ]
     },
     "metadata": {
      "needs_background": "light"
     },
     "output_type": "display_data"
    }
   ],
   "source": [
    "sns.countplot(x = 'HORA', data = dataset)\n",
    "plt.ylabel(\"\")\n",
    "plt.xlabel(\"Hora del día\")\n",
    "plt.title(\"Distribución de acuerdo a la hora del día\")"
   ]
  },
  {
   "cell_type": "code",
   "execution_count": null,
   "metadata": {},
   "outputs": [],
   "source": []
  }
 ],
 "metadata": {
  "interpreter": {
   "hash": "6368d1b93ea16d7ebcb819b1bcd67d0f476a963614a7c593f95da8b33afd56df"
  },
  "kernelspec": {
   "display_name": "Python 3.9.7 64-bit ('venv': venv)",
   "language": "python",
   "name": "python3"
  },
  "language_info": {
   "codemirror_mode": {
    "name": "ipython",
    "version": 3
   },
   "file_extension": ".py",
   "mimetype": "text/x-python",
   "name": "python",
   "nbconvert_exporter": "python",
   "pygments_lexer": "ipython3",
   "version": "3.9.7"
  },
  "orig_nbformat": 4
 },
 "nbformat": 4,
 "nbformat_minor": 2
}
